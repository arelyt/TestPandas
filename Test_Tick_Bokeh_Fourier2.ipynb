{
 "cells": [
  {
   "cell_type": "code",
   "execution_count": 11,
   "metadata": {
    "collapsed": false
   },
   "outputs": [],
   "source": [
    "import numpy as np\n",
    "from math import pi\n",
    "import datetime as dt\n",
    "import pandas as pd\n",
    "from bokeh.plotting import figure, output_file, show\n",
    "from bokeh.layouts import gridplot\n",
    "from bokeh.models import LinearAxis, LogAxis, Range1d\n",
    "from scipy.fftpack import fft, fftfreq, fftshift, rfft\n",
    "output_file('Fourier.html')"
   ]
  },
  {
   "cell_type": "code",
   "execution_count": 18,
   "metadata": {
    "collapsed": false
   },
   "outputs": [],
   "source": [
    "tick = pd.read_csv('RIM6_4.trd', usecols=(0, 1, 2, 3, 4, 5, 6),\n",
    "                   parse_dates={'DateTime': [0,1]}, index_col=False)"
   ]
  },
  {
   "cell_type": "code",
   "execution_count": 19,
   "metadata": {
    "collapsed": false
   },
   "outputs": [],
   "source": [
    "tick = tick.rename(columns={'<LAST>': 'Price', '<VOL>': 'Vol', '<DIRECTION>': 'Dir'})"
   ]
  },
  {
   "cell_type": "code",
   "execution_count": 20,
   "metadata": {
    "collapsed": false
   },
   "outputs": [],
   "source": [
    "tick.ix[tick.Dir=='Sell', 'VolSell'] = tick.Vol"
   ]
  },
  {
   "cell_type": "code",
   "execution_count": 21,
   "metadata": {
    "collapsed": false
   },
   "outputs": [],
   "source": [
    "tick.ix[tick.Dir=='Buy', 'VolBuy'] = tick.Vol"
   ]
  },
  {
   "cell_type": "code",
   "execution_count": 22,
   "metadata": {
    "collapsed": false
   },
   "outputs": [],
   "source": [
    "Nticks=500 #Количество тиков для бара и ресэмплинг"
   ]
  },
  {
   "cell_type": "code",
   "execution_count": 29,
   "metadata": {},
   "outputs": [],
   "source": [
    "ml = tick.set_index('DateTime').Price.resample('60s').ohlc()\n",
    "pd.DataFrame.to_csv(ml, path_or_buf='ml.csv')"
   ]
  },
  {
   "cell_type": "code",
   "execution_count": 7,
   "metadata": {
    "collapsed": false
   },
   "outputs": [],
   "source": [
    "# main=pd.DataFrame(index=np.arange(0, (len(tr.index)/Nticks+Nticks)),\n",
    "#                 columns=('DateTime', 'open', 'high', 'low', 'close', 'vBuy', 'vSell'))\n",
    "rows_list=[]\n",
    "for i in range(0, len(tick.index), Nticks):\n",
    "    dict1={}\n",
    "#    srez = tr.iloc[i:i+Nticks]\n",
    "    op=tick.Price.iloc[i]\n",
    "    hi=tick.Price.iloc[i:i+Nticks].max()\n",
    "    lo=tick.Price.iloc[i:i+Nticks].min()\n",
    "    if i+Nticks<len(tick.index):\n",
    "        cl=tick.loc[i+Nticks-1].Price\n",
    "    else:\n",
    "        cl=tick.loc[len(tick.index)-1].Price\n",
    "    \n",
    "    vBuy=tick.VolBuy.iloc[i:i+Nticks].sum()\n",
    "    vSell=tick.VolSell.iloc[i:i+Nticks].sum()\n",
    "    nBuy=tick.VolBuy.iloc[i:i+Nticks].count()\n",
    "    nSell=tick.VolSell.iloc[i:i+Nticks].count()\n",
    "    tClose=tick.DateTime.iloc[i:i+Nticks].max()\n",
    "    dtime=tick.DateTime.iloc[i:i+Nticks].max()-tick.DateTime.iloc[i:i+Nticks].min()\n",
    "    dict1.update({'DateTime': tClose, 'open': op, 'high': hi,\n",
    "                 'low': lo, 'close': cl, 'TickBuy': nBuy,\n",
    "                'VolBuy': vBuy, 'TickSell': nSell, 'VolSell': vSell, 'DeltaTime': dtime})\n",
    "    rows_list.append(dict1)\n",
    "    \n",
    "res=pd.DataFrame(rows_list)\n",
    "res['Dsec']=res['DeltaTime'].dt.total_seconds()\n",
    "res['TSpeedBuy']=res['TickBuy']/res['Dsec']\n",
    "res['TSpeedSell']=res['TickSell']/res['Dsec']\n",
    "res['VSpeedBuy']=res['VolBuy']/res['Dsec']\n",
    "res['VSpeedSell']=res['VolSell']/res['Dsec']\n",
    "res['OTO']=((res['TickBuy']-res['TickSell'])/(res['TickBuy']+res['TickSell'])*0.65\n",
    "            + (res['VolBuy']-res['VolSell'])/(res['VolBuy']+res['VolSell'])*0.35)*100.0\n",
    "res['OTON']=((res['TickBuy']*res['VolBuy']-res['TickSell']*res['VolSell'])/\n",
    "             (res['TickBuy']*res['VolBuy']+res['TickSell']*res['VolSell']))*100.0\n",
    "res['Delta']=res['VolBuy']-res['VolSell']\n",
    "res['CumDelta']=res['Delta'].cumsum()"
   ]
  },
  {
   "cell_type": "code",
   "execution_count": 12,
   "metadata": {
    "collapsed": false
   },
   "outputs": [],
   "source": [
    "#res"
   ]
  },
  {
   "cell_type": "code",
   "execution_count": 13,
   "metadata": {
    "collapsed": false
   },
   "outputs": [],
   "source": [
    "# res = res.set_index('DateTime')\n",
    "mids = (res.open + res.close)/2\n",
    "spans = abs(res.close - res.open)\n",
    "# print res, mids, spans\n",
    "inc = res.close > res.open\n",
    "dec = res.open > res.close\n",
    "#w = 12*60*60\n",
    "w = 0.5\n",
    "# print res.index[inc] , mids, spans, inc, dec\n",
    "resfft = rfft(res[-128:].OTON)\n",
    "resfftfreq = fftfreq(len(resfft))"
   ]
  },
  {
   "cell_type": "code",
   "execution_count": 14,
   "metadata": {
    "collapsed": false
   },
   "outputs": [],
   "source": [
    "p = figure(x_range=(0, len(res.index)), plot_width=800, plot_height=600, title='RIM6 CandleStick')\n",
    "p.y_range=Range1d(start=90500, end=95000)\n",
    "p.xaxis.major_label_orientation = pi/4\n",
    "p.grid.grid_line_alpha = 0.3\n",
    "p.segment(res.index.values, res.high, res.index.values, res.low, color='black')\n",
    "p.rect(res.index[inc], mids[inc], w, spans[inc], fill_color='#6CF350', line_color='green')\n",
    "p.rect(res.index[dec], mids[dec], w, spans[dec], fill_color='#FF0000', line_color='red')\n",
    "p.extra_y_ranges = {}\n",
    "p.extra_y_ranges['TickSpeed'] = Range1d(start=0, end=100)\n",
    "p.extra_y_ranges['OTO'] = Range1d(start=-60, end=60)\n",
    "p.extra_y_ranges['OTON'] = Range1d(start=-60, end=60)\n",
    "p.extra_y_ranges['CumDelta'] = Range1d(start=-3000, end=52000)\n",
    "#p.line(res.index, res.TSpeedBuy, color='blue', y_range_name='TickSpeed', alpha=0.5)\n",
    "p.line(res.index, res.TSpeedBuy.rolling(window=4).median(), color='green', y_range_name='TickSpeed', alpha=0.8)\n",
    "#p.line(res.index, res.TSpeedSell, color='red', y_range_name='TickSpeed', alpha=0.5)\n",
    "p.line(res.index, res.TSpeedSell.rolling(window=9).median(), color='red', y_range_name='TickSpeed', alpha=0.8)\n",
    "p.line(res.index, res.OTO.rolling(window=15).mean(), color='brown', y_range_name='OTO', alpha=0.9)\n",
    "p.line(res.index, res.OTON.rolling(window=15).mean(), color='blue', y_range_name='OTON', alpha=0.9)\n",
    "p.line(res.index, res.CumDelta, color='black', y_range_name='CumDelta', alpha=0.9)\n",
    "p.add_layout(LogAxis(y_range_name='TickSpeed'), 'left')\n",
    "p.add_layout(LinearAxis(y_range_name='OTO'), 'left')\n",
    "p.add_layout(LinearAxis(y_range_name='OTON'), 'left')\n",
    "p.add_layout(LinearAxis(y_range_name='CumDelta'), 'left')\n",
    "#show(p)\n",
    "l=figure(plot_width=800, plot_height=600, title='FFT')\n",
    "l.line(resfftfreq, resfft)\n",
    "m = gridplot([[p, l]])\n",
    "\n",
    "show(m)"
   ]
  },
  {
   "cell_type": "code",
   "execution_count": null,
   "metadata": {},
   "outputs": [],
   "source": [
    ""
   ]
  }
 ],
 "metadata": {
  "kernelspec": {
   "display_name": "Python 2",
   "language": "python",
   "name": "python2"
  },
  "language_info": {
   "codemirror_mode": {
    "name": "ipython",
    "version": 2.0
   },
   "file_extension": ".py",
   "mimetype": "text/x-python",
   "name": "python",
   "nbconvert_exporter": "python",
   "pygments_lexer": "ipython2",
   "version": "2.7.12"
  }
 },
 "nbformat": 4,
 "nbformat_minor": 0
}