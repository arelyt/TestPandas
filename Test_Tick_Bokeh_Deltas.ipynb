{
 "cells": [
  {
   "cell_type": "code",
   "execution_count": 1,
   "metadata": {
    "collapsed": false
   },
   "outputs": [],
   "source": [
    "# coding:utf8\n",
    "import numpy as np\n",
    "import math\n",
    "from math import pi\n",
    "import datetime as dt\n",
    "import pandas as pd\n",
    "import matplotlib.pyplot as plt\n",
    "from bokeh.plotting import figure, output_file, show\n",
    "from bokeh.layouts import gridplot\n",
    "from bokeh.models import LinearAxis, LogAxis, Range1d\n",
    "from scipy.fftpack import fft, fftfreq, fftshift, rfft\n",
    "output_file('Fourier.html')\n",
    "%matplotlib notebook"
   ]
  },
  {
   "cell_type": "code",
   "execution_count": 2,
   "metadata": {
    "collapsed": false
   },
   "outputs": [],
   "source": [
    "tick = pd.read_csv('RIM6_4.trd', usecols=(0, 1, 2, 3, 4, 5, 6),\n",
    "                   parse_dates={'DateTime': [0,1]}, index_col=False)\n",
    "tick = tick.rename(columns={'<LAST>': 'Price', '<VOL>': 'Vol', '<DIRECTION>': 'Dir'})\n",
    "tick.ix[tick.Dir == 'Sell', 'VolSell'] = tick.Vol\n",
    "tick.ix[tick.Dir == 'Buy', 'VolBuy'] = tick.Vol"
   ]
  },
  {
   "cell_type": "code",
   "execution_count": 59,
   "metadata": {
    "collapsed": false
   },
   "outputs": [
    {
     "data": {
      "text/plain": [
       "10"
      ]
     },
     "execution_count": 59,
     "metadata": {},
     "output_type": "execute_result"
    }
   ],
   "source": [
    "Nticks = 500     # Количество тиков для бара и ресэмплинг по тикам\n",
    "Nback = 64\n",
    "Ndeltas = 500\n",
    "TimeRes = '1s'  # Интервал ресэмплинга в секундах\n",
    "dt = 1.0        # Interval FFT\n",
    "fs = 1.0/dt      # Sampling frequency\n",
    "dl = tick.reset_index()\n",
    "dl['VolBuy'] = dl['VolBuy'].fillna(0)\n",
    "dl['VolSell'] = dl['VolSell'].fillna(0)\n",
    "dl['CumDelta'] = (dl['VolBuy'] - dl['VolSell']).cumsum()\n",
    "dl['Delta'] = (abs(dl['VolBuy'] - dl['VolSell'])).cumsum()\n",
    "dl.iloc[:10000].to_csv('Deltas1.csv')\n",
    "f = dl.iloc[:10]\n",
    "(f['VolSell'] != 0).sum()"
   ]
  },
  {
   "cell_type": "code",
   "execution_count": 17,
   "metadata": {},
   "outputs": [
    {
     "ename": "ValueError",
     "evalue": "cannot convert float NaN to integer",
     "traceback": [
      "\u001b[0;31m\u001b[0m",
      "\u001b[0;31mValueError\u001b[0mTraceback (most recent call last)",
      "\u001b[0;32m<ipython-input-17-554f7169d1a4>\u001b[0m in \u001b[0;36m<module>\u001b[0;34m()\u001b[0m\n\u001b[1;32m      1\u001b[0m \u001b[0mrows_list\u001b[0m \u001b[1;33m=\u001b[0m \u001b[1;33m[\u001b[0m\u001b[1;33m]\u001b[0m\u001b[1;33m\u001b[0m\u001b[0m\n\u001b[0;32m----> 2\u001b[0;31m \u001b[1;32mfor\u001b[0m \u001b[0mi\u001b[0m \u001b[1;32min\u001b[0m \u001b[0mrange\u001b[0m\u001b[1;33m(\u001b[0m\u001b[1;36m0\u001b[0m\u001b[1;33m,\u001b[0m \u001b[0mint\u001b[0m\u001b[1;33m(\u001b[0m\u001b[0mdl\u001b[0m\u001b[1;33m.\u001b[0m\u001b[0mDelta\u001b[0m\u001b[1;33m.\u001b[0m\u001b[0mmax\u001b[0m\u001b[1;33m(\u001b[0m\u001b[1;33m)\u001b[0m\u001b[1;33m/\u001b[0m\u001b[0mNdeltas\u001b[0m\u001b[1;33m)\u001b[0m\u001b[1;33m)\u001b[0m\u001b[1;33m:\u001b[0m\u001b[1;33m\u001b[0m\u001b[0m\n\u001b[0m\u001b[1;32m      3\u001b[0m     \u001b[0mtmp\u001b[0m \u001b[1;33m=\u001b[0m \u001b[0mdl\u001b[0m\u001b[1;33m.\u001b[0m\u001b[0mloc\u001b[0m\u001b[1;33m[\u001b[0m\u001b[1;33m(\u001b[0m\u001b[0mdl\u001b[0m\u001b[1;33m[\u001b[0m\u001b[1;34m'Delta'\u001b[0m\u001b[1;33m]\u001b[0m \u001b[1;33m>=\u001b[0m \u001b[0mi\u001b[0m\u001b[1;33m*\u001b[0m\u001b[0mNdeltas\u001b[0m\u001b[1;33m)\u001b[0m \u001b[1;33m&\u001b[0m \u001b[1;33m(\u001b[0m\u001b[0mdl\u001b[0m\u001b[1;33m[\u001b[0m\u001b[1;34m'Delta'\u001b[0m\u001b[1;33m]\u001b[0m \u001b[1;33m<\u001b[0m \u001b[0mi\u001b[0m\u001b[1;33m*\u001b[0m\u001b[0mNdeltas\u001b[0m \u001b[1;33m+\u001b[0m \u001b[0mNdeltas\u001b[0m\u001b[1;33m)\u001b[0m\u001b[1;33m]\u001b[0m\u001b[1;33m\u001b[0m\u001b[0m\n\u001b[1;32m      4\u001b[0m     \u001b[0mdict1\u001b[0m \u001b[1;33m=\u001b[0m \u001b[1;33m{\u001b[0m\u001b[1;33m}\u001b[0m\u001b[1;33m\u001b[0m\u001b[0m\n\u001b[1;32m      5\u001b[0m \u001b[1;33m\u001b[0m\u001b[0m\n",
      "\u001b[0;31mValueError\u001b[0m: cannot convert float NaN to integer"
     ],
     "output_type": "error"
    }
   ],
   "source": [
    "rows_list = []\n",
    "for i in range(0, int(dl.Delta.max()/Ndeltas)):\n",
    "    tmp = dl.loc[(dl['Delta'] >= i*Ndeltas) & (dl['Delta'] < i*Ndeltas + Ndeltas)]\n",
    "    dict1 = {}\n",
    "\n",
    "    op = tmp.Price.iloc[0]\n",
    "    hi = tmp.Price.max()\n",
    "    lo = tmp.Price.min()\n",
    "    cl = tmp.Price.iloc[(len(tmp.index) - 1)]\n",
    "    cumdelta = tmp.Delta.iloc[(len(tmp.index) - 1)]\n",
    "    vBuy = tmp.VolBuy.sum()\n",
    "    vSell = tmp.VolSell.sum()\n",
    "    nBuy = tmp.VolBuy.count()\n",
    "    nSell = tmp.VolSell.count()\n",
    "    tClose = tmp.DateTime.max()\n",
    "    dtime = (tmp.DateTime.max() - tmp.DateTime.min())\n",
    "    dict1.update({'DateTime': tClose, 'open': op, 'high': hi,\n",
    "                  'low': lo, 'close': cl, 'TickBuy': nBuy,\n",
    "                  'VolBuy': vBuy, 'TickSell': nSell, 'VolSell': vSell, 'DeltaTime': dtime, 'CumDelta': cumdelta})\n",
    "    rows_list.append(dict1)\n",
    "\n",
    "res = pd.DataFrame(rows_list)\n",
    "\n",
    "res['Dsec'] = res['DeltaTime'].dt.total_seconds()\n",
    "res['TSpeedBuy'] = res['TickBuy'] / res['Dsec']\n",
    "res['TSpeedSell'] = res['TickSell'] / res['Dsec']\n",
    "res['VSpeedBuy'] = res['VolBuy'] / res['Dsec']\n",
    "res['VSpeedSell'] = res['VolSell'] / res['Dsec']\n",
    "res['OTO'] = ((res['TickBuy'] - res['TickSell']) / (res['TickBuy'] + res['TickSell']) * 0.65\n",
    "              + (res['VolBuy'] - res['VolSell']) / (res['VolBuy'] + res['VolSell']) * 0.35) * 100.0\n",
    "res['OTON'] = ((res['TickBuy'] * res['VolBuy'] - res['TickSell'] * res['VolSell']) /\n",
    "               (res['TickBuy'] * res['VolBuy'] + res['TickSell'] * res['VolSell'])) * 100.0\n",
    "res.to_csv('res.csv')"
   ]
  },
  {
   "cell_type": "code",
   "execution_count": 11,
   "metadata": {
    "collapsed": false
   },
   "outputs": [],
   "source": [
    "# res = res.set_index('DateTime')\n",
    "mids = (res.open + res.close)/2\n",
    "spans = abs(res.close - res.open)\n",
    "inc = res.close > res.open\n",
    "dec = res.open > res.close\n",
    "#w = 12*60*60\n",
    "w = 0.5"
   ]
  },
  {
   "cell_type": "code",
   "execution_count": 14,
   "metadata": {
    "collapsed": false
   },
   "outputs": [],
   "source": [
    "p = figure(x_range=(0, len(res.index)), plot_width=800, plot_height=600, title='RIM6 CandleStick')\n",
    "p.y_range=Range1d(start=90500, end=95000)\n",
    "p.xaxis.major_label_orientation = pi/4\n",
    "p.grid.grid_line_alpha = 0.3\n",
    "p.segment(res.index.values, res.high, res.index.values, res.low, color='black')\n",
    "p.rect(res.index[inc], mids[inc], w, spans[inc], fill_color='#6CF350', line_color='green')\n",
    "p.rect(res.index[dec], mids[dec], w, spans[dec], fill_color='#FF0000', line_color='red')\n",
    "p.extra_y_ranges = {}\n",
    "p.extra_y_ranges['TickSpeed'] = Range1d(start=0, end=100)\n",
    "p.extra_y_ranges['OTO'] = Range1d(start=-60, end=60)\n",
    "p.extra_y_ranges['OTON'] = Range1d(start=-60, end=60)\n",
    "p.extra_y_ranges['CumDelta'] = Range1d(start=-3000, end=52000)\n",
    "#p.line(res.index, res.TSpeedBuy, color='blue', y_range_name='TickSpeed', alpha=0.5)\n",
    "p.line(res.index, res.TSpeedBuy.rolling(window=4).median(), color='green', y_range_name='TickSpeed', alpha=0.8)\n",
    "#p.line(res.index, res.TSpeedSell, color='red', y_range_name='TickSpeed', alpha=0.5)\n",
    "p.line(res.index, res.TSpeedSell.rolling(window=9).median(), color='red', y_range_name='TickSpeed', alpha=0.8)\n",
    "p.line(res.index, res.OTO.rolling(window=15).mean(), color='brown', y_range_name='OTO', alpha=0.9)\n",
    "p.line(res.index, res.OTON.rolling(window=15).mean(), color='blue', y_range_name='OTON', alpha=0.9)\n",
    "p.line(res.index, res.CumDelta, color='black', y_range_name='CumDelta', alpha=0.9)\n",
    "p.add_layout(LogAxis(y_range_name='TickSpeed'), 'left')\n",
    "p.add_layout(LinearAxis(y_range_name='OTO'), 'left')\n",
    "p.add_layout(LinearAxis(y_range_name='OTON'), 'left')\n",
    "p.add_layout(LinearAxis(y_range_name='CumDelta'), 'left')\n",
    "#show(p)\n",
    "#l=figure(plot_width=800, plot_height=600, title='FFT')\n",
    "#l.line(resfftfreq, resfft)\n",
    "#m = gridplot([[p, l]])\n",
    "\n",
    "show(p)"
   ]
  },
  {
   "cell_type": "code",
   "execution_count": null,
   "metadata": {},
   "outputs": [],
   "source": [
    ""
   ]
  }
 ],
 "metadata": {
  "anaconda-cloud": {},
  "kernelspec": {
   "display_name": "Python [default]",
   "language": "python",
   "name": "python2"
  },
  "language_info": {
   "codemirror_mode": {
    "name": "ipython",
    "version": 2.0
   },
   "file_extension": ".py",
   "mimetype": "text/x-python",
   "name": "python",
   "nbconvert_exporter": "python",
   "pygments_lexer": "ipython2",
   "version": "2.7.11"
  }
 },
 "nbformat": 4,
 "nbformat_minor": 0
}